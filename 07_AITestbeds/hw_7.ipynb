{
 "cells": [
  {
   "cell_type": "markdown",
   "id": "91075118-883f-4952-b411-2478a3bbd346",
   "metadata": {},
   "source": [
    "CEREBRAS log"
   ]
  },
  {
   "cell_type": "markdown",
   "id": "b77ae2bb-c5d2-4879-bd46-302945197bc6",
   "metadata": {},
   "source": [
    "| Batch Size | Final Loss | Processed Samples | Run Time (seconds) |\n",
    "|------------|------------|-------------------|---------------------|\n",
    "| 1024       | 7.07812    | 1024000           | 210.338430415       |\n",
    "| 512        | 7.12500    | 512000            | 175.636380857       |\n",
    "| 2048       | 7.14844    | 2048000           | 304.146350184       |\n"
   ]
  },
  {
   "cell_type": "markdown",
   "id": "de9789d6",
   "metadata": {},
   "source": [
    "Groq log"
   ]
  },
  {
   "cell_type": "markdown",
   "id": "8bdddddc",
   "metadata": {},
   "source": [
    "| Scenario                            | Source   | Accuracy | E2E Latency (ms) | E2E IPS | On-Chip Latency (ms) | On-Chip IPS |\n",
    "|-------------------------------------|----------|----------|-------------------|---------|----------------------|-------------|\n",
    "| Seq. Length: 128, Batch Size: 1     | CPU      | 77.47%   | 2.21              | 451.69  | --                   | --          |\n",
    "| Seq. Length: 128, Batch Size: 1     | GroqChip | 77.47%   | 0.07              | 15121.15| 0.03                 | 37576.72    |\n",
    "| Seq. Length: 256, Batch Size: 1     | CPU      | 77.47%   | 4.09              | 244.35  | --                   | --          |\n",
    "| Seq. Length: 256, Batch Size: 1     | GroqChip | 77.47%   | 0.08              | 12364.87| 0.04                 | 23391.20    |"
   ]
  },
  {
   "cell_type": "markdown",
   "id": "9792ca52",
   "metadata": {},
   "source": [
    "Graphcore log"
   ]
  },
  {
   "cell_type": "markdown",
   "id": "d7ef4b98",
   "metadata": {},
   "source": [
    "| Learning Rate | Epochs | Batch Size | Test Batch Size | Accuracy on Test Set |\n",
    "|---------------|--------|------------|-----------------|----------------------|\n",
    "| 0.05          | 10     | 8          | 80              | 98.22%               |\n",
    "| 0.01          | 100    | 32         | 80              | 99.11%               |\n",
    "| 0.01          | 100    | 256        | 80              | 98.05%               |\n",
    "| 0.001         | 100    | 32         | 80              | 98.25%               |\n"
   ]
  },
  {
   "cell_type": "markdown",
   "id": "5206ed12",
   "metadata": {},
   "source": [
    "Sambanova Log"
   ]
  },
  {
   "cell_type": "markdown",
   "id": "c1354852",
   "metadata": {},
   "source": [
    "| n_tasks | Duration |\n",
    "|---------|----------|\n",
    "| 2       | 784      |\n",
    "| 4       | 785      |\n",
    "| 8       | 789      |\n",
    "| 16      | 807      |\n"
   ]
  }
 ],
 "metadata": {
  "kernelspec": {
   "display_name": "datascience/conda-2023-01-10",
   "language": "python",
   "name": "conda-2023-01-10"
  },
  "language_info": {
   "codemirror_mode": {
    "name": "ipython",
    "version": 3
   },
   "file_extension": ".py",
   "mimetype": "text/x-python",
   "name": "python",
   "nbconvert_exporter": "python",
   "pygments_lexer": "ipython3",
   "version": "3.10.9"
  }
 },
 "nbformat": 4,
 "nbformat_minor": 5
}
